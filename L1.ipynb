{
  "nbformat": 4,
  "nbformat_minor": 0,
  "metadata": {
    "colab": {
      "provenance": []
    },
    "kernelspec": {
      "name": "python3",
      "display_name": "Python 3"
    },
    "language_info": {
      "name": "python"
    }
  },
  "cells": [
    {
      "cell_type": "markdown",
      "source": [
        "## 宣告變數"
      ],
      "metadata": {
        "id": "Phb5rqPm1J5P"
      }
    },
    {
      "cell_type": "code",
      "source": [
        "num_1 = 17    ## int\n",
        "str_1 = \"hello\" ## string\n",
        "float_1 = 17.2 ##　float"
      ],
      "metadata": {
        "id": "6t5Prv0g1b6-"
      },
      "execution_count": null,
      "outputs": []
    },
    {
      "cell_type": "code",
      "source": [
        "apple = 13"
      ],
      "metadata": {
        "id": "_LC1HzPDQOBo"
      },
      "execution_count": null,
      "outputs": []
    },
    {
      "cell_type": "code",
      "source": [
        "num_1 = int(num_1)\n",
        "print(type(num_1))"
      ],
      "metadata": {
        "id": "lvnnsTAd1wUu"
      },
      "execution_count": null,
      "outputs": []
    },
    {
      "cell_type": "code",
      "source": [
        "n=1\n",
        "print(n + 1)\n"
      ],
      "metadata": {
        "id": "iI-Qi2aY64ab"
      },
      "execution_count": null,
      "outputs": []
    },
    {
      "cell_type": "markdown",
      "source": [
        "# 運算"
      ],
      "metadata": {
        "id": "yv-nCdSi0-ao"
      }
    },
    {
      "cell_type": "code",
      "execution_count": null,
      "metadata": {
        "id": "jzYWu3Yg03UX"
      },
      "outputs": [],
      "source": [
        "a=7\n",
        "b=3"
      ]
    },
    {
      "cell_type": "code",
      "source": [
        "ans_1 = a+b\n",
        "ans_2 = a-b\n",
        "ans_3 = a*b\n",
        "ans_4 = a/b\n",
        "ans_5 = a//b # 商數\n",
        "ans_6 = a%b #餘數\n",
        "ans_7 = a**b #a的b次方"
      ],
      "metadata": {
        "id": "_vASuzN113TO"
      },
      "execution_count": null,
      "outputs": []
    },
    {
      "cell_type": "code",
      "source": [
        "print(ans_7)"
      ],
      "metadata": {
        "colab": {
          "base_uri": "https://localhost:8080/"
        },
        "id": "Kwzz7D1Z2bxV",
        "outputId": "addce5cd-41c5-42e0-f047-80bd0aed65a6"
      },
      "execution_count": null,
      "outputs": [
        {
          "output_type": "stream",
          "name": "stdout",
          "text": [
            "343\n"
          ]
        }
      ]
    },
    {
      "cell_type": "markdown",
      "source": [
        "example"
      ],
      "metadata": {
        "id": "tln3k64z3JdF"
      }
    },
    {
      "cell_type": "code",
      "source": [
        "num = 1729"
      ],
      "metadata": {
        "id": "ljgn2bsH3PQk"
      },
      "execution_count": null,
      "outputs": []
    },
    {
      "cell_type": "code",
      "source": [
        "n_1 = num // 1000\n",
        "n_2 = num % 1000 // 100"
      ],
      "metadata": {
        "id": "FofOX4jv3U6N"
      },
      "execution_count": null,
      "outputs": []
    },
    {
      "cell_type": "code",
      "source": [
        "print(n_1,n_2)"
      ],
      "metadata": {
        "colab": {
          "base_uri": "https://localhost:8080/"
        },
        "id": "cPQGYkPK3xgk",
        "outputId": "afa252da-6a77-476a-9c01-1013faeec1b4"
      },
      "execution_count": null,
      "outputs": [
        {
          "output_type": "stream",
          "name": "stdout",
          "text": [
            "1 7\n"
          ]
        }
      ]
    },
    {
      "cell_type": "markdown",
      "source": [
        "## input"
      ],
      "metadata": {
        "id": "JMQi5AY5QYG9"
      }
    },
    {
      "cell_type": "code",
      "source": [
        "a = input()\n",
        "print(a)"
      ],
      "metadata": {
        "id": "-Esb2b6SQa81"
      },
      "execution_count": null,
      "outputs": []
    },
    {
      "cell_type": "code",
      "source": [
        "a = input(\"please input something : \")\n",
        "print(a)"
      ],
      "metadata": {
        "id": "n38BTD89QmOl"
      },
      "execution_count": null,
      "outputs": []
    },
    {
      "cell_type": "code",
      "source": [
        "input_num = input(\"give me a number : \")\n",
        "\n",
        "input_num = int(input_num)\n",
        "total = input_num + 2\n",
        "\n",
        "print(total)"
      ],
      "metadata": {
        "id": "Uqwf8GPwQvwQ"
      },
      "execution_count": null,
      "outputs": []
    },
    {
      "cell_type": "code",
      "source": [],
      "metadata": {
        "id": "V__1MLQFRAVg"
      },
      "execution_count": null,
      "outputs": []
    },
    {
      "cell_type": "markdown",
      "source": [
        "## print"
      ],
      "metadata": {
        "id": "vAkkITgXSieY"
      }
    },
    {
      "cell_type": "code",
      "source": [
        "name = \"Alice\"\n",
        "age = 30\n",
        "print(\"My name is %s and I am %d years old.\" % (name, age))"
      ],
      "metadata": {
        "id": "t5ZFb1-VSjoA"
      },
      "execution_count": null,
      "outputs": []
    },
    {
      "cell_type": "markdown",
      "source": [
        "str.format()"
      ],
      "metadata": {
        "id": "4nkZrw_fS-iW"
      }
    },
    {
      "cell_type": "code",
      "source": [
        "name = \"Bob\"\n",
        "age = 40\n",
        "print(\"My name is {} and I am {} years old.\".format(name, age))\n"
      ],
      "metadata": {
        "id": "jNYH6fJ2Sp26"
      },
      "execution_count": null,
      "outputs": []
    },
    {
      "cell_type": "markdown",
      "source": [
        "f-string(python3.6以後)"
      ],
      "metadata": {
        "id": "H4mon_pQS2YO"
      }
    },
    {
      "cell_type": "code",
      "source": [
        "name = \"David\"\n",
        "age = 60\n",
        "print(f\"My name is {name} and I am {age} years old.\")"
      ],
      "metadata": {
        "colab": {
          "base_uri": "https://localhost:8080/"
        },
        "id": "vS1OmeSoSuM1",
        "outputId": "c7f93427-c271-4dc1-e6f3-1b026d3770a9"
      },
      "execution_count": null,
      "outputs": [
        {
          "output_type": "stream",
          "name": "stdout",
          "text": [
            "My name is David and I am 60 years old.\n"
          ]
        }
      ]
    },
    {
      "cell_type": "code",
      "source": [
        "print(f\"{name} will be {age + 5} years old after 5 years.\")"
      ],
      "metadata": {
        "id": "1jGYGswfSzg8"
      },
      "execution_count": null,
      "outputs": []
    },
    {
      "cell_type": "markdown",
      "source": [
        "# 對齊"
      ],
      "metadata": {
        "id": "R-Sy6kvITYdx"
      }
    },
    {
      "cell_type": "markdown",
      "source": [
        "使用 % 方法:\n",
        "\n",
        "%s: 用於字串\n",
        "\n",
        "%d: 用於整數\n",
        "\n",
        "%f: 用於浮點數"
      ],
      "metadata": {
        "id": "kpy554vDTfkp"
      }
    },
    {
      "cell_type": "code",
      "source": [
        "print(\"Integer: %5d\" % 42)  # 寬度為5，預設右對齊\n",
        "print(\"Float: %7.2f\" % 3.14159)  # 寬度為7，小數點後保留2位"
      ],
      "metadata": {
        "id": "6GZbXF_4TbNQ"
      },
      "execution_count": null,
      "outputs": []
    },
    {
      "cell_type": "markdown",
      "source": [
        "使用 str.format() 方法：\n",
        "\n",
        "這裡的 : 是開始格式指定，後面可以接對齊、寬度和精度的資訊。"
      ],
      "metadata": {
        "id": "OU6u62TBT5q-"
      }
    },
    {
      "cell_type": "code",
      "source": [
        "print(\"Integer: {:5d}\".format(42))  # 寬度為5，預設右對齊\n",
        "print(\"Float: {:7.2f}\".format(3.14159))  # 寬度為7，小數點後保留2位\n"
      ],
      "metadata": {
        "id": "Qyn6h4oxT82H"
      },
      "execution_count": null,
      "outputs": []
    },
    {
      "cell_type": "markdown",
      "source": [
        "使用 f-string (Python 3.6 以上)：\n",
        "\n",
        "f-string 的格式化與 str.format() 非常類似。"
      ],
      "metadata": {
        "id": "R4z5gdpsUDPd"
      }
    },
    {
      "cell_type": "code",
      "source": [
        "integer = 42\n",
        "floating = 3.14159\n",
        "print(f\"Integer: {integer:5d}\")  # 寬度為5，預設右對齊\n",
        "print(f\"Float: {floating:7.2f}\")  # 寬度為7，小數點後保留2位\n"
      ],
      "metadata": {
        "id": "RqbatKX3UF4L"
      },
      "execution_count": null,
      "outputs": []
    },
    {
      "cell_type": "markdown",
      "source": [
        "\"<\" : 左對齊\n",
        "\n",
        "\">\" : 右對齊 (這是預設的對齊方式)\n",
        "\n",
        "\"^\" : 中央對齊\n"
      ],
      "metadata": {
        "id": "dwLRT5JSUG7J"
      }
    },
    {
      "cell_type": "code",
      "source": [
        "print(f\"Left aligned: {42:<5d}\")\n",
        "print(f\"Right aligned: {42:>5d}\")\n",
        "print(f\"Center aligned: {42:^5d}\")\n"
      ],
      "metadata": {
        "id": "YbRRQg1oUEY0"
      },
      "execution_count": null,
      "outputs": []
    },
    {
      "cell_type": "markdown",
      "source": [
        "填充：\n",
        "\n",
        "你可以在對齊字符之前插入任何其他字符（除了 { 和 } 以外的）來作為填充字符。"
      ],
      "metadata": {
        "id": "yAPxe7QBUZuC"
      }
    },
    {
      "cell_type": "code",
      "source": [
        "print(f\"Zero padded: {42:05d}\")  # 使用0填充至寬度5\n",
        "print(f\"* padded: {42:*<5d}\")   # 使用*填充至寬度5，左對齊\n"
      ],
      "metadata": {
        "id": "3UokwaM_Ua3s"
      },
      "execution_count": null,
      "outputs": []
    }
  ]
}